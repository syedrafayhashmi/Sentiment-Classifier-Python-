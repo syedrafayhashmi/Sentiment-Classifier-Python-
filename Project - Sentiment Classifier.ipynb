{
 "cells": [
  {
   "cell_type": "markdown",
   "metadata": {},
   "source": [
    "## Part1"
   ]
  },
  {
   "cell_type": "markdown",
   "metadata": {},
   "source": [
    "We have provided some synthetic (fake, semi-randomly generated) twitter data in a csv file named project_twitter_data.csv which has the text of a tweet, the number of retweets of that tweet, and the number of replies to that tweet. We have also words that express positive sentiment and negative sentiment, in the files positive_words.txt and negative_words.txt.\n",
    "\n",
    "Your task is to build a sentiment classifier, which will detect how positive or negative each tweet is. You will create a csv file, which contains columns for the Number of Retweets, Number of Replies, Positive Score (which is how many happy words are in the tweet), Negative Score (which is how many angry words are in the tweet), and the Net Score for each tweet. At the end, you upload the csv file to Excel or Google Sheets, and produce a graph of the Net Score vs Number of Retweets.\n",
    "\n",
    "To start, define a function called strip_punctuation which takes one parameter, a string which represents a word, and removes characters considered punctuation from everywhere in the word. (Hint: remember the .replace() method for strings.)"
   ]
  },
  {
   "cell_type": "code",
   "execution_count": 61,
   "metadata": {},
   "outputs": [
    {
     "name": "stdout",
     "output_type": "stream",
     "text": [
      "incredible\n"
     ]
    }
   ],
   "source": [
    "punctuation_chars = [\"'\", '\"', \",\", \".\", \"!\", \":\", \";\", '#', '@']\n",
    "def strip_punctuation(mystr):\n",
    "    out=''\n",
    "    for x in mystr:\n",
    "        if x not in punctuation_chars:\n",
    "            out+=x     \n",
    "    return out       \n",
    "\n",
    "print(strip_punctuation('#in.c@red..ible'))"
   ]
  },
  {
   "cell_type": "markdown",
   "metadata": {},
   "source": [
    "Next, copy in your strip_punctuation function and define a function called get_pos which takes one parameter, a string which represents a one or more sentences, and calculates how many words in the string are considered positive words. Use the list, positive_words to determine what words will count as positive. The function should return a positive integer - how many occurances there are of positive words in the text.\n",
    "       "
   ]
  },
  {
   "cell_type": "code",
   "execution_count": 69,
   "metadata": {},
   "outputs": [],
   "source": [
    "\n",
    "punctuation_chars = [\"'\", '\"', \",\", \".\", \"!\", \":\", \";\", '#', '@']\n",
    "def strip_punctuation(mystr):\n",
    "    out=''\n",
    "    for x in mystr:\n",
    "        if x not in punctuation_chars:\n",
    "            out+=x     \n",
    "    return out \n",
    "def get_pos(mystr1):\n",
    "    lst=mystr1.split(\" \")\n",
    "    \n",
    "    count = 0\n",
    "    for char in lst:\n",
    "        \n",
    "        print(char)\n",
    "        if strip_punctuation(char) in positive_words:\n",
    "            count+=1\n",
    "    return count\n",
    "    \n",
    "# list of positive words to use\n",
    "positive_words = []\n",
    "with open(\"positive_words.txt\") as pos_f:\n",
    "    for lin in pos_f:\n",
    "        if lin[0] != ';' and lin[0] != '\\n':\n",
    "            positive_words.append(lin.strip())\n"
   ]
  },
  {
   "cell_type": "markdown",
   "metadata": {},
   "source": [
    "Next, copy in your strip_punctuation function and define a function called get_neg which takes one parameter, a string which represents a one or more sentences, and calculates how many words in the string are considered negative words. Use the list, negative_words to determine what words will count as negative. The function should return a positive integer - how many occurances there are of negative words in the text."
   ]
  },
  {
   "cell_type": "code",
   "execution_count": 70,
   "metadata": {},
   "outputs": [],
   "source": [
    "\n",
    "punctuation_chars = [\"'\", '\"', \",\", \".\", \"!\", \":\", \";\", '#', '@']\n",
    "def strip_punctuation(mystr):\n",
    "    out=''\n",
    "    for x in mystr:\n",
    "        if x not in punctuation_chars:\n",
    "            out+=x     \n",
    "    return out \n",
    "def get_pos(mystr1):\n",
    "    lst=mystr1.split(\" \")\n",
    "    count = 0\n",
    "    for char in lst:\n",
    "        print(char)\n",
    "        if strip_punctuation(char) in positive_words:\n",
    "            count+=1\n",
    "    return count\n",
    "# list of positive words to use\n",
    "positive_words = []\n",
    "with open(\"positive_words.txt\") as pos_f:\n",
    "    for lin in pos_f:\n",
    "        if lin[0] != ';' and lin[0] != '\\n':\n",
    "            positive_words.append(lin.strip())\n",
    "negative_words = []\n",
    "with open(\"negative_words.txt\") as pos_f:\n",
    "    for lin in pos_f:\n",
    "        if lin[0] != ';' and lin[0] != '\\n':\n",
    "            negative_words.append(lin.strip())\n",
    "\n",
    "def get_neg(mystr2):\n",
    "    lst2=mystr2.split(\" \")\n",
    "    count = 0\n",
    "    for chars in lst2:\n",
    "        print(chars)\n",
    "        if strip_punctuation(chars) in negative_wo\n",
    "        rds:\n",
    "            count+=1\n",
    "    return count"
   ]
  },
  {
   "cell_type": "markdown",
   "metadata": {},
   "source": [
    "Finally, copy in your previous functions and write code that opens the file project_twitter_data.csv which has the fake generated twitter data (the text of a tweet, the number of retweets of that tweet, and the number of replies to that tweet). Your task is to build a sentiment classifier, which will detect how positive or negative each tweet is. Copy the code from the code windows above, and put that in the top of this code window. Now, you will write code to create a csv file called resulting_data.csv, which contains the Number of Retweets, Number of Replies, Positive Score (which is how many happy words are in the tweet), Negative Score (which is how many angry words are in the tweet), and the Net Score (how positive or negative the text is overall) for each tweet. The file should have those headers in that order. Remember that there is another component to this project. You will upload the csv file to Excel or Google Sheets and produce a graph of the Net Score vs Number of Retweets. Check Coursera for that portion of the assignment, if you’re accessing this textbook from Coursera."
   ]
  },
  {
   "cell_type": "code",
   "execution_count": 155,
   "metadata": {},
   "outputs": [],
   "source": [
    "def strip_punctuation(mystr):\n",
    "    out=''\n",
    "    for x in mystr:\n",
    "        if x not in punctuation_chars:\n",
    "            out+=x     \n",
    "    return out \n",
    "def get_pos(mystr1):\n",
    "    lst=mystr1.split(\" \")\n",
    "    count = 0\n",
    "    for char in lst:\n",
    "        if strip_punctuation(char) in positive_words:\n",
    "            count+=1\n",
    "    return count\n",
    "def get_neg(mystr2):\n",
    "    lst2=mystr2.split(\" \")\n",
    "    count = 0\n",
    "    for chars in lst2:\n",
    "        if strip_punctuation(chars) in negative_words:\n",
    "            count+=1\n",
    "    return count\n",
    "TwitterData = open(\"project_twitter_data.csv\",\"r\")\n",
    "resultingData = open(\"resulting_data.csv\",\"w\")\n",
    "punctuation_chars = [\"'\", '\"', \",\", \".\", \"!\", \":\", \";\", '#', '@']\n",
    "# lists of words to use\n",
    "positive_words = []\n",
    "with open(\"positive_words.txt\") as pos_f:\n",
    "    for lin in pos_f:\n",
    "        if lin[0] != ';' and lin[0] != '\\n':\n",
    "            positive_words.append(lin.strip())\n",
    "\n",
    "\n",
    "negative_words = []\n",
    "with open(\"negative_words.txt\") as pos_f:\n",
    "    for lin in pos_f:\n",
    "        if lin[0] != ';' and lin[0] != '\\n':\n",
    "            negative_words.append(lin.strip())\n",
    "with open(\"resulting_data.csv\",\"w\") as mycsv1:\n",
    "                mycsv1.write(\"Number of Retweets, Number of Replies, Positive Score, Negative Score\")\n",
    "                mycsv1.write(\"\\n\")\n",
    "        \n",
    "def write_data(resultingData):\n",
    "    resultingData.write(\"Number of Retweets, Number of Replies, Positive Score, Negative Score, Net Score\")\n",
    "    resultingData.write(\"\\n\")\n",
    "\n",
    "    lines =  TwitterData.readlines()\n",
    "    headerDontUsed= lines.pop(0)\n",
    "    \n",
    "    for line in lines:\n",
    "        list_line = line.strip().split(',')\n",
    "        \n",
    "        resultingData.write(\"{}, {}, {}, {}, {}\".format(list_line[1], list_line[2], get_pos(list_line[0]), get_neg(list_line[0]), (get_pos(list_line[0])-get_neg(list_line[0]))))    \n",
    "        resultingData.write(\"\\n\")\n",
    "\n",
    "        \n",
    "\n",
    "write_data(resultingData)\n",
    "TwitterData.close()\n",
    "resultingData.close()\n"
   ]
  }
 ],
 "metadata": {
  "kernelspec": {
   "display_name": "Python 3",
   "language": "python",
   "name": "python3"
  },
  "language_info": {
   "codemirror_mode": {
    "name": "ipython",
    "version": 3
   },
   "file_extension": ".py",
   "mimetype": "text/x-python",
   "name": "python",
   "nbconvert_exporter": "python",
   "pygments_lexer": "ipython3",
   "version": "3.7.3"
  }
 },
 "nbformat": 4,
 "nbformat_minor": 2
}
